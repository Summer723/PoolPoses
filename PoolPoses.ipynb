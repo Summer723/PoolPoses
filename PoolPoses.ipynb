{
  "nbformat": 4,
  "nbformat_minor": 0,
  "metadata": {
    "colab": {
      "provenance": [],
      "machine_shape": "hm",
      "authorship_tag": "ABX9TyOha//r0ZHVuySNPNXbru73",
      "include_colab_link": true
    },
    "kernelspec": {
      "name": "python3",
      "display_name": "Python 3"
    },
    "language_info": {
      "name": "python"
    },
    "gpuClass": "standard"
  },
  "cells": [
    {
      "cell_type": "markdown",
      "metadata": {
        "id": "view-in-github",
        "colab_type": "text"
      },
      "source": [
        "<a href=\"https://colab.research.google.com/github/Summer723/PoolPoses/blob/main/PoolPoses.ipynb\" target=\"_parent\"><img src=\"https://colab.research.google.com/assets/colab-badge.svg\" alt=\"Open In Colab\"/></a>"
      ]
    },
    {
      "cell_type": "code",
      "source": [
        "!pip install timm==0.6.11\n",
        "!git clone https://github.com/sail-sg/metaformer.git"
      ],
      "metadata": {
        "id": "-84LaiujH6NK"
      },
      "execution_count": null,
      "outputs": []
    },
    {
      "cell_type": "code",
      "source": [
        "cd /content/metaformer"
      ],
      "metadata": {
        "id": "f_SF6be4IKQn"
      },
      "execution_count": null,
      "outputs": []
    },
    {
      "cell_type": "code",
      "execution_count": null,
      "metadata": {
        "id": "KFujT0Az6TGq"
      },
      "outputs": [],
      "source": [
        "import torch\n",
        "from torchsummary import summary\n",
        "import metaformer_baselines\n",
        "model = metaformer_baselines.convformer_b36_in21ft1k(pretrained=True) # can change different model name\n",
        "print(model)"
      ]
    },
    {
      "cell_type": "code",
      "source": [
        "newmodel = torch.nn.Sequential(*(list(model.children())[:-1]))"
      ],
      "metadata": {
        "id": "qVIHuNYhH75N"
      },
      "execution_count": 13,
      "outputs": []
    },
    {
      "cell_type": "code",
      "source": [
        "print(newmodel)\n",
        "newmodel(torch.rand(2,3,224,224))"
      ],
      "metadata": {
        "id": "3b55YYPQ3mda"
      },
      "execution_count": null,
      "outputs": []
    },
    {
      "cell_type": "code",
      "source": [
        "class PoolPoses(torch.nn.Module):\n",
        "  def __init__(self):\n",
        "    super().__init__()\n",
        "    self.backbone = metaformer_baselines.poolformerv2_m48(pretrained=True)\n",
        "    self.feature_extractor = torch.nn.Sequential(*list(self.backbone.children())[:-1])\n",
        "    self.linear = torch.nn.Linear(768,100)\n",
        "\n",
        "  def forward(self, x):\n",
        "    return self.linear(self.feature_extractor(x))\n",
        "\n",
        "model = PoolPoses()\n",
        "output = model(torch.rand((1, 3,224,224)))"
      ],
      "metadata": {
        "id": "Tn8YabLzPqGy"
      },
      "execution_count": null,
      "outputs": []
    }
  ]
}